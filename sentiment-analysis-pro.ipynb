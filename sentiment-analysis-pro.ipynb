{
 "cells": [
  {
   "cell_type": "code",
   "execution_count": 1,
   "id": "bcf3b549",
   "metadata": {
    "_cell_guid": "b1076dfc-b9ad-4769-8c92-a6c4dae69d19",
    "_uuid": "8f2839f25d086af736a60e9eeb907d3b93b6e0e5",
    "execution": {
     "iopub.execute_input": "2025-07-21T22:49:37.472810Z",
     "iopub.status.busy": "2025-07-21T22:49:37.472436Z",
     "iopub.status.idle": "2025-07-21T22:49:39.784633Z",
     "shell.execute_reply": "2025-07-21T22:49:39.783073Z"
    },
    "papermill": {
     "duration": 2.324566,
     "end_time": "2025-07-21T22:49:39.787081",
     "exception": false,
     "start_time": "2025-07-21T22:49:37.462515",
     "status": "completed"
    },
    "tags": []
   },
   "outputs": [
    {
     "name": "stdout",
     "output_type": "stream",
     "text": [
      "/kaggle/input/amazon-fine-food-reviews/hashes.txt\n",
      "/kaggle/input/amazon-fine-food-reviews/Reviews.csv\n",
      "/kaggle/input/amazon-fine-food-reviews/database.sqlite\n"
     ]
    }
   ],
   "source": [
    "# This Python 3 environment comes with many helpful analytics libraries installed\n",
    "# It is defined by the kaggle/python Docker image: https://github.com/kaggle/docker-python\n",
    "# For example, here's several helpful packages to load\n",
    "\n",
    "import numpy as np # linear algebra\n",
    "import pandas as pd # data processing, CSV file I/O (e.g. pd.read_csv)\n",
    "\n",
    "# Input data files are available in the read-only \"../input/\" directory\n",
    "# For example, running this (by clicking run or pressing Shift+Enter) will list all files under the input directory\n",
    "\n",
    "import os\n",
    "for dirname, _, filenames in os.walk('/kaggle/input'):\n",
    "    for filename in filenames:\n",
    "        print(os.path.join(dirname, filename))\n",
    "\n",
    "# You can write up to 20GB to the current directory (/kaggle/working/) that gets preserved as output when you create a version using \"Save & Run All\" \n",
    "# You can also write temporary files to /kaggle/temp/, but they won't be saved outside of the current session"
   ]
  },
  {
   "cell_type": "markdown",
   "id": "97b21ea9",
   "metadata": {
    "papermill": {
     "duration": 0.007061,
     "end_time": "2025-07-21T22:49:39.802467",
     "exception": false,
     "start_time": "2025-07-21T22:49:39.795406",
     "status": "completed"
    },
    "tags": []
   },
   "source": [
    "# Importing Libraries & Setup"
   ]
  },
  {
   "cell_type": "code",
   "execution_count": 2,
   "id": "43d1df88",
   "metadata": {
    "execution": {
     "iopub.execute_input": "2025-07-21T22:49:39.818995Z",
     "iopub.status.busy": "2025-07-21T22:49:39.818454Z",
     "iopub.status.idle": "2025-07-21T22:50:03.113750Z",
     "shell.execute_reply": "2025-07-21T22:50:03.111971Z"
    },
    "papermill": {
     "duration": 23.306858,
     "end_time": "2025-07-21T22:50:03.116812",
     "exception": false,
     "start_time": "2025-07-21T22:49:39.809954",
     "status": "completed"
    },
    "tags": []
   },
   "outputs": [
    {
     "name": "stderr",
     "output_type": "stream",
     "text": [
      "2025-07-21 22:49:44.681024: E external/local_xla/xla/stream_executor/cuda/cuda_fft.cc:477] Unable to register cuFFT factory: Attempting to register factory for plugin cuFFT when one has already been registered\n",
      "WARNING: All log messages before absl::InitializeLog() is called are written to STDERR\n",
      "E0000 00:00:1753138184.957380      13 cuda_dnn.cc:8310] Unable to register cuDNN factory: Attempting to register factory for plugin cuDNN when one has already been registered\n",
      "E0000 00:00:1753138185.027496      13 cuda_blas.cc:1418] Unable to register cuBLAS factory: Attempting to register factory for plugin cuBLAS when one has already been registered\n"
     ]
    },
    {
     "name": "stdout",
     "output_type": "stream",
     "text": [
      "Libraries imported successfully.\n"
     ]
    }
   ],
   "source": [
    "# First things first, I'll import all the libraries I need.\n",
    "import pandas as pd\n",
    "import numpy as np\n",
    "import matplotlib.pyplot as plt\n",
    "import seaborn as sns\n",
    "from wordcloud import WordCloud\n",
    "import re\n",
    "from bs4 import BeautifulSoup\n",
    "import tensorflow as tf\n",
    "from tensorflow.keras.layers import Input, Embedding, Bidirectional, LSTM, Dense\n",
    "from tensorflow.keras.models import Model\n",
    "from tensorflow.keras.layers import TextVectorization\n",
    "from sklearn.model_selection import train_test_split\n",
    "from sklearn.preprocessing import MinMaxScaler\n",
    "\n",
    "# Setting a nice visual style for the plots.\n",
    "sns.set_style(\"whitegrid\")\n",
    "print(\"Libraries imported successfully.\")"
   ]
  },
  {
   "cell_type": "markdown",
   "id": "5c084aca",
   "metadata": {
    "papermill": {
     "duration": 0.007899,
     "end_time": "2025-07-21T22:50:03.134643",
     "exception": false,
     "start_time": "2025-07-21T22:50:03.126744",
     "status": "completed"
    },
    "tags": []
   },
   "source": [
    "# Loading the Data"
   ]
  },
  {
   "cell_type": "code",
   "execution_count": 3,
   "id": "4e02ff91",
   "metadata": {
    "execution": {
     "iopub.execute_input": "2025-07-21T22:50:03.153201Z",
     "iopub.status.busy": "2025-07-21T22:50:03.152343Z",
     "iopub.status.idle": "2025-07-21T22:50:13.387894Z",
     "shell.execute_reply": "2025-07-21T22:50:13.386637Z"
    },
    "papermill": {
     "duration": 10.24785,
     "end_time": "2025-07-21T22:50:13.390148",
     "exception": false,
     "start_time": "2025-07-21T22:50:03.142298",
     "status": "completed"
    },
    "tags": []
   },
   "outputs": [
    {
     "name": "stdout",
     "output_type": "stream",
     "text": [
      "Step 1: Loading Data...\n",
      "Dataset loaded successfully. Initial shape: (568454, 3)\n",
      "    ProductId  Score                                               Text\n",
      "0  B001E4KFG0      5  I have bought several of the Vitality canned d...\n",
      "1  B00813GRG4      1  Product arrived labeled as Jumbo Salted Peanut...\n",
      "2  B000LQOCH0      4  This is a confection that has been around a fe...\n",
      "3  B000UA0QIQ      2  If you are looking for the secret ingredient i...\n",
      "4  B006K2ZZ7K      5  Great taffy at a great price.  There was a wid...\n"
     ]
    }
   ],
   "source": [
    "# ### 1. Data Loading & Initial Setup ###\n",
    "# I'll load the dataset from the default Kaggle directory.\n",
    "print(\"Step 1: Loading Data...\")\n",
    "file_path = '/kaggle/input/amazon-fine-food-reviews/Reviews.csv'\n",
    "df = pd.read_csv(file_path)\n",
    "\n",
    "# Keeping only the columns I need for this analysis\n",
    "df = df[['ProductId', 'Score', 'Text']]\n",
    "df.dropna(inplace=True)\n",
    "\n",
    "print(f\"Dataset loaded successfully. Initial shape: {df.shape}\")\n",
    "print(df.head())"
   ]
  },
  {
   "cell_type": "markdown",
   "id": "14aeeea3",
   "metadata": {
    "papermill": {
     "duration": 0.007747,
     "end_time": "2025-07-21T22:50:13.406714",
     "exception": false,
     "start_time": "2025-07-21T22:50:13.398967",
     "status": "completed"
    },
    "tags": []
   },
   "source": [
    "# Exploratory Data Analysis"
   ]
  },
  {
   "cell_type": "markdown",
   "id": "7f5463dd",
   "metadata": {
    "papermill": {
     "duration": 0.007287,
     "end_time": "2025-07-21T22:50:13.422005",
     "exception": false,
     "start_time": "2025-07-21T22:50:13.414718",
     "status": "completed"
    },
    "tags": []
   },
   "source": [
    "**Calculating Review Lengths**"
   ]
  },
  {
   "cell_type": "code",
   "execution_count": 4,
   "id": "9325229d",
   "metadata": {
    "execution": {
     "iopub.execute_input": "2025-07-21T22:50:13.438977Z",
     "iopub.status.busy": "2025-07-21T22:50:13.438529Z",
     "iopub.status.idle": "2025-07-21T22:50:16.356475Z",
     "shell.execute_reply": "2025-07-21T22:50:16.355214Z"
    },
    "papermill": {
     "duration": 2.929077,
     "end_time": "2025-07-21T22:50:16.358533",
     "exception": false,
     "start_time": "2025-07-21T22:50:13.429456",
     "status": "completed"
    },
    "tags": []
   },
   "outputs": [
    {
     "name": "stdout",
     "output_type": "stream",
     "text": [
      "Starting EDA...\n",
      "The 98th percentile for review length is: 307 words.\n"
     ]
    }
   ],
   "source": [
    "# For my EDA, I'll start by calculating the length of each review.\n",
    "print(\"Starting EDA...\")\n",
    "df['ReviewLength'] = df['Text'].apply(lambda x: len(x.split()))\n",
    "\n",
    "# I want to filter out super long reviews, so I'll find the 98th percentile.\n",
    "length_percentile_98 = df['ReviewLength'].quantile(0.98)\n",
    "print(f\"The 98th percentile for review length is: {int(length_percentile_98)} words.\")"
   ]
  },
  {
   "cell_type": "markdown",
   "id": "8d0d988e",
   "metadata": {
    "papermill": {
     "duration": 0.007119,
     "end_time": "2025-07-21T22:50:16.373637",
     "exception": false,
     "start_time": "2025-07-21T22:50:16.366518",
     "status": "completed"
    },
    "tags": []
   },
   "source": [
    "**Visualizing the Length distribution**"
   ]
  },
  {
   "cell_type": "code",
   "execution_count": 5,
   "id": "4f4fc7ef",
   "metadata": {
    "execution": {
     "iopub.execute_input": "2025-07-21T22:50:16.391132Z",
     "iopub.status.busy": "2025-07-21T22:50:16.390164Z",
     "iopub.status.idle": "2025-07-21T22:50:19.620291Z",
     "shell.execute_reply": "2025-07-21T22:50:19.618825Z"
    },
    "papermill": {
     "duration": 3.24131,
     "end_time": "2025-07-21T22:50:19.622432",
     "exception": false,
     "start_time": "2025-07-21T22:50:16.381122",
     "status": "completed"
    },
    "tags": []
   },
   "outputs": [
    {
     "name": "stderr",
     "output_type": "stream",
     "text": [
      "/usr/local/lib/python3.11/dist-packages/seaborn/_oldcore.py:1119: FutureWarning: use_inf_as_na option is deprecated and will be removed in a future version. Convert inf values to NaN before operating instead.\n",
      "  with pd.option_context('mode.use_inf_as_na', True):\n"
     ]
    },
    {
     "data": {
      "image/png": "[encoded data removed]",
      "text/plain": [
       "<Figure size 1200x600 with 1 Axes>"
      ]
     },
     "metadata": {},
     "output_type": "display_data"
    }
   ],
   "source": [
    "# Now, I'll plot the review lengths to see the distribution.\n",
    "plt.figure(figsize=(12, 6))\n",
    "sns.histplot(df['ReviewLength'], bins=100, kde=True)\n",
    "plt.axvline(x=length_percentile_98, color='red', linestyle='--', linewidth=2, label=f'98th Percentile Cutoff')\n",
    "plt.title('Distribution of Review Lengths')\n",
    "plt.xlim(0, 1000)\n",
    "plt.legend()\n",
    "plt.show()"
   ]
  },
  {
   "cell_type": "markdown",
   "id": "ad7b6df4",
   "metadata": {
    "papermill": {
     "duration": 0.008612,
     "end_time": "2025-07-21T22:50:19.645101",
     "exception": false,
     "start_time": "2025-07-21T22:50:19.636489",
     "status": "completed"
    },
    "tags": []
   },
   "source": [
    "# Data Preprocessing"
   ]
  },
  {
   "cell_type": "markdown",
   "id": "d9958b9f",
   "metadata": {
    "papermill": {
     "duration": 0.008094,
     "end_time": "2025-07-21T22:50:19.661745",
     "exception": false,
     "start_time": "2025-07-21T22:50:19.653651",
     "status": "completed"
    },
    "tags": []
   },
   "source": [
    "**Filtering reviews by length**"
   ]
  },
  {
   "cell_type": "code",
   "execution_count": 6,
   "id": "5cbd1a70",
   "metadata": {
    "execution": {
     "iopub.execute_input": "2025-07-21T22:50:19.680979Z",
     "iopub.status.busy": "2025-07-21T22:50:19.680551Z",
     "iopub.status.idle": "2025-07-21T22:50:19.797279Z",
     "shell.execute_reply": "2025-07-21T22:50:19.795897Z"
    },
    "papermill": {
     "duration": 0.12875,
     "end_time": "2025-07-21T22:50:19.799665",
     "exception": false,
     "start_time": "2025-07-21T22:50:19.670915",
     "status": "completed"
    },
    "tags": []
   },
   "outputs": [
    {
     "name": "stdout",
     "output_type": "stream",
     "text": [
      "Starting Preprocessing...\n",
      "Filtered out long reviews. Kept 557157 rows from the original 568454.\n"
     ]
    }
   ],
   "source": [
    "# Time for preprocessing. First, I'll apply the length filter I just found.\n",
    "print(\"Starting Preprocessing...\")\n",
    "original_rows = len(df)\n",
    "df = df[df['ReviewLength'] <= length_percentile_98].copy()\n",
    "print(f\"Filtered out long reviews. Kept {len(df)} rows from the original {original_rows}.\")"
   ]
  },
  {
   "cell_type": "markdown",
   "id": "34ba80f8",
   "metadata": {
    "papermill": {
     "duration": 0.008796,
     "end_time": "2025-07-21T22:50:19.817334",
     "exception": false,
     "start_time": "2025-07-21T22:50:19.808538",
     "status": "completed"
    },
    "tags": []
   },
   "source": [
    "**Creating Sentiment Labels**"
   ]
  },
  {
   "cell_type": "code",
   "execution_count": 7,
   "id": "d8725185",
   "metadata": {
    "execution": {
     "iopub.execute_input": "2025-07-21T22:50:19.836372Z",
     "iopub.status.busy": "2025-07-21T22:50:19.835822Z",
     "iopub.status.idle": "2025-07-21T22:50:20.196568Z",
     "shell.execute_reply": "2025-07-21T22:50:20.195459Z"
    },
    "papermill": {
     "duration": 0.372594,
     "end_time": "2025-07-21T22:50:20.198510",
     "exception": false,
     "start_time": "2025-07-21T22:50:19.825916",
     "status": "completed"
    },
    "tags": []
   },
   "outputs": [
    {
     "name": "stdout",
     "output_type": "stream",
     "text": [
      "Shape after removing neutral reviews: (515721, 5)\n"
     ]
    },
    {
     "data": {
      "text/html": [
       "<div>\n",
       "<style scoped>\n",
       "    .dataframe tbody tr th:only-of-type {\n",
       "        vertical-align: middle;\n",
       "    }\n",
       "\n",
       "    .dataframe tbody tr th {\n",
       "        vertical-align: top;\n",
       "    }\n",
       "\n",
       "    .dataframe thead th {\n",
       "        text-align: right;\n",
       "    }\n",
       "</style>\n",
       "<table border=\"1\" class=\"dataframe\">\n",
       "  <thead>\n",
       "    <tr style=\"text-align: right;\">\n",
       "      <th></th>\n",
       "      <th>Score</th>\n",
       "      <th>Sentiment</th>\n",
       "    </tr>\n",
       "  </thead>\n",
       "  <tbody>\n",
       "    <tr>\n",
       "      <th>0</th>\n",
       "      <td>5</td>\n",
       "      <td>1</td>\n",
       "    </tr>\n",
       "    <tr>\n",
       "      <th>1</th>\n",
       "      <td>1</td>\n",
       "      <td>0</td>\n",
       "    </tr>\n",
       "    <tr>\n",
       "      <th>2</th>\n",
       "      <td>4</td>\n",
       "      <td>1</td>\n",
       "    </tr>\n",
       "    <tr>\n",
       "      <th>3</th>\n",
       "      <td>2</td>\n",
       "      <td>0</td>\n",
       "    </tr>\n",
       "    <tr>\n",
       "      <th>4</th>\n",
       "      <td>5</td>\n",
       "      <td>1</td>\n",
       "    </tr>\n",
       "  </tbody>\n",
       "</table>\n",
       "</div>"
      ],
      "text/plain": [
       "   Score  Sentiment\n",
       "0      5          1\n",
       "1      1          0\n",
       "2      4          1\n",
       "3      2          0\n",
       "4      5          1"
      ]
     },
     "execution_count": 7,
     "metadata": {},
     "output_type": "execute_result"
    }
   ],
   "source": [
    "# Next, I'll create the 'Sentiment' column and remove the neutral reviews (Score = 3).\n",
    "df['Sentiment'] = df['Score'].apply(lambda x: 1 if x >= 4 else (0 if x <= 2 else -1))\n",
    "df = df[df['Sentiment'] != -1].copy()\n",
    "print(f\"Shape after removing neutral reviews: {df.shape}\")\n",
    "df[['Score', 'Sentiment']].head()"
   ]
  },
  {
   "cell_type": "markdown",
   "id": "fc221967",
   "metadata": {
    "papermill": {
     "duration": 0.008284,
     "end_time": "2025-07-21T22:50:20.221811",
     "exception": false,
     "start_time": "2025-07-21T22:50:20.213527",
     "status": "completed"
    },
    "tags": []
   },
   "source": [
    "**Defining Cleaning Function & Stopwords**"
   ]
  },
  {
   "cell_type": "code",
   "execution_count": 8,
   "id": "323ff793",
   "metadata": {
    "execution": {
     "iopub.execute_input": "2025-07-21T22:50:20.241968Z",
     "iopub.status.busy": "2025-07-21T22:50:20.240776Z",
     "iopub.status.idle": "2025-07-21T22:50:20.254154Z",
     "shell.execute_reply": "2025-07-21T22:50:20.253126Z"
    },
    "papermill": {
     "duration": 0.025571,
     "end_time": "2025-07-21T22:50:20.256179",
     "exception": false,
     "start_time": "2025-07-21T22:50:20.230608",
     "status": "completed"
    },
    "tags": []
   },
   "outputs": [
    {
     "name": "stdout",
     "output_type": "stream",
     "text": [
      "Custom stopwords and cleaning function are defined.\n"
     ]
    }
   ],
   "source": [
    "# Here I'll define my custom stopword list and the text cleaning function.\n",
    "# Well I searched for the Stopwords and created a list of the probable ones as i didn't had any idea about NLTK\n",
    "CUSTOM_STOPWORDS = {\n",
    "    'a', 'about', 'above', 'after', 'again', 'against', 'all', 'am', 'an', 'and', 'any', 'are', 'as', 'at',\n",
    "    'be', 'because', 'been', 'before', 'being', 'below', 'between', 'both', 'but', 'by', 'can', 'did', 'do',\n",
    "    'does', 'doing', 'down', 'during', 'each', 'few', 'for', 'from', 'further', 'had', 'has', 'have', 'having',\n",
    "    'he', 'her', 'here', 'hers', 'herself', 'him', 'himself', 'his', 'how', 'i', 'if', 'in', 'into', 'is', 'it',\n",
    "    'its', 'itself', 'just', 'me', 'more', 'most', 'my', 'myself', 'no', 'nor', 'not', 'now', 'o', 'of', 'on',\n",
    "    'once', 'only', 'or', 'other', 'our', 'ours', 'ourselves', 'out', 'over', 'own', 's', 'same', 'she', 'should',\n",
    "    'so', 'some', 'such', 't', 'than', 'that', 'the', 'their', 'theirs', 'them', 'themselves', 'then', 'there',\n",
    "    'these', 'they', 'this', 'those', 'through', 'to', 'too', 'under', 'until', 'up', 'very', 'was', 'we', 'were',\n",
    "    'what', 'when', 'where', 'which', 'while', 'who', 'whom', 'why', 'will', 'with', 'you', 'your', 'yours',\n",
    "    'yourself', 'yourselves', 'br',\n",
    "    'amazon', 'product', 'order', 'box', 'bag', 'time', 'food', 'taste', 'flavor', 'coffee', 'tea', 'dog', 'cat'\n",
    "}\n",
    "\n",
    "def clean_text(text):\n",
    "    text = BeautifulSoup(text, \"html.parser\").get_text()\n",
    "    text = re.sub(r'[^a-zA-Z\\s]', '', text, re.I|re.A)\n",
    "    text = text.lower()\n",
    "    tokens = [word for word in text.split() if word not in CUSTOM_STOPWORDS]\n",
    "    return \" \".join(tokens)\n",
    "\n",
    "print(\"Custom stopwords and cleaning function are defined.\")"
   ]
  },
  {
   "cell_type": "markdown",
   "id": "9687312c",
   "metadata": {
    "papermill": {
     "duration": 0.010112,
     "end_time": "2025-07-21T22:50:20.282415",
     "exception": false,
     "start_time": "2025-07-21T22:50:20.272303",
     "status": "completed"
    },
    "tags": []
   },
   "source": [
    "Applying the cleaning of the text from the reviews"
   ]
  },
  {
   "cell_type": "code",
   "execution_count": 9,
   "id": "d828e0b8",
   "metadata": {
    "execution": {
     "iopub.execute_input": "2025-07-21T22:50:20.303959Z",
     "iopub.status.busy": "2025-07-21T22:50:20.302944Z",
     "iopub.status.idle": "2025-07-21T22:51:10.962961Z",
     "shell.execute_reply": "2025-07-21T22:51:10.961840Z"
    },
    "papermill": {
     "duration": 50.682603,
     "end_time": "2025-07-21T22:51:10.974361",
     "exception": false,
     "start_time": "2025-07-21T22:50:20.291758",
     "status": "completed"
    },
    "tags": []
   },
   "outputs": [
    {
     "name": "stdout",
     "output_type": "stream",
     "text": [
      "Cleaning text data\n"
     ]
    },
    {
     "name": "stderr",
     "output_type": "stream",
     "text": [
      "/tmp/ipykernel_13/2334497585.py:18: MarkupResemblesLocatorWarning: The input passed in on this line looks more like a filename than HTML or XML.\n",
      "\n",
      "If you meant to use Beautiful Soup to parse the contents of a file on disk, then something has gone wrong. You should open the file first, using code like this:\n",
      "\n",
      "    filehandle = open(your filename)\n",
      "\n",
      "You can then feed the open filehandle into Beautiful Soup instead of using the filename.\n",
      "\n",
      "However, if you want to parse some data that happens to look like a filename, then nothing has gone wrong: you are using Beautiful Soup correctly, and this warning is spurious and can be filtered. To make this warning go away, run this code before calling the BeautifulSoup constructor:\n",
      "\n",
      "    from bs4 import MarkupResemblesLocatorWarning\n",
      "    import warnings\n",
      "\n",
      "    warnings.filterwarnings(\"ignore\", category=MarkupResemblesLocatorWarning)\n",
      "    \n",
      "  text = BeautifulSoup(text, \"html.parser\").get_text()\n"
     ]
    },
    {
     "name": "stdout",
     "output_type": "stream",
     "text": [
      "Text cleaning complete.\n"
     ]
    },
    {
     "data": {
      "text/html": [
       "<div>\n",
       "<style scoped>\n",
       "    .dataframe tbody tr th:only-of-type {\n",
       "        vertical-align: middle;\n",
       "    }\n",
       "\n",
       "    .dataframe tbody tr th {\n",
       "        vertical-align: top;\n",
       "    }\n",
       "\n",
       "    .dataframe thead th {\n",
       "        text-align: right;\n",
       "    }\n",
       "</style>\n",
       "<table border=\"1\" class=\"dataframe\">\n",
       "  <thead>\n",
       "    <tr style=\"text-align: right;\">\n",
       "      <th></th>\n",
       "      <th>Text</th>\n",
       "      <th>CleanedText</th>\n",
       "    </tr>\n",
       "  </thead>\n",
       "  <tbody>\n",
       "    <tr>\n",
       "      <th>0</th>\n",
       "      <td>I have bought several of the Vitality canned d...</td>\n",
       "      <td>bought several vitality canned products found ...</td>\n",
       "    </tr>\n",
       "    <tr>\n",
       "      <th>1</th>\n",
       "      <td>Product arrived labeled as Jumbo Salted Peanut...</td>\n",
       "      <td>arrived labeled jumbo salted peanutsthe peanut...</td>\n",
       "    </tr>\n",
       "    <tr>\n",
       "      <th>2</th>\n",
       "      <td>This is a confection that has been around a fe...</td>\n",
       "      <td>confection around centuries light pillowy citr...</td>\n",
       "    </tr>\n",
       "    <tr>\n",
       "      <th>3</th>\n",
       "      <td>If you are looking for the secret ingredient i...</td>\n",
       "      <td>looking secret ingredient robitussin believe f...</td>\n",
       "    </tr>\n",
       "    <tr>\n",
       "      <th>4</th>\n",
       "      <td>Great taffy at a great price.  There was a wid...</td>\n",
       "      <td>great taffy great price wide assortment yummy ...</td>\n",
       "    </tr>\n",
       "  </tbody>\n",
       "</table>\n",
       "</div>"
      ],
      "text/plain": [
       "                                                Text  \\\n",
       "0  I have bought several of the Vitality canned d...   \n",
       "1  Product arrived labeled as Jumbo Salted Peanut...   \n",
       "2  This is a confection that has been around a fe...   \n",
       "3  If you are looking for the secret ingredient i...   \n",
       "4  Great taffy at a great price.  There was a wid...   \n",
       "\n",
       "                                         CleanedText  \n",
       "0  bought several vitality canned products found ...  \n",
       "1  arrived labeled jumbo salted peanutsthe peanut...  \n",
       "2  confection around centuries light pillowy citr...  \n",
       "3  looking secret ingredient robitussin believe f...  \n",
       "4  great taffy great price wide assortment yummy ...  "
      ]
     },
     "execution_count": 9,
     "metadata": {},
     "output_type": "execute_result"
    }
   ],
   "source": [
    "print(\"Cleaning text data\")\n",
    "df['CleanedText'] = df['Text'].apply(clean_text)\n",
    "print(\"Text cleaning complete.\")\n",
    "df[['Text', 'CleanedText']].head()"
   ]
  },
  {
   "cell_type": "markdown",
   "id": "3f9771d6",
   "metadata": {
    "papermill": {
     "duration": 0.113787,
     "end_time": "2025-07-21T22:51:11.097223",
     "exception": false,
     "start_time": "2025-07-21T22:51:10.983436",
     "status": "completed"
    },
    "tags": []
   },
   "source": [
    "# Feature Engineering"
   ]
  },
  {
   "cell_type": "code",
   "execution_count": 10,
   "id": "597db000",
   "metadata": {
    "execution": {
     "iopub.execute_input": "2025-07-21T22:51:11.117012Z",
     "iopub.status.busy": "2025-07-21T22:51:11.116594Z",
     "iopub.status.idle": "2025-07-21T22:51:11.463456Z",
     "shell.execute_reply": "2025-07-21T22:51:11.462428Z"
    },
    "papermill": {
     "duration": 0.358835,
     "end_time": "2025-07-21T22:51:11.465104",
     "exception": false,
     "start_time": "2025-07-21T22:51:11.106269",
     "status": "completed"
    },
    "tags": []
   },
   "outputs": [
    {
     "name": "stdout",
     "output_type": "stream",
     "text": [
      "Engineering final features...\n",
      "Feature engineering complete.\n"
     ]
    },
    {
     "data": {
      "text/html": [
       "<div>\n",
       "<style scoped>\n",
       "    .dataframe tbody tr th:only-of-type {\n",
       "        vertical-align: middle;\n",
       "    }\n",
       "\n",
       "    .dataframe tbody tr th {\n",
       "        vertical-align: top;\n",
       "    }\n",
       "\n",
       "    .dataframe thead th {\n",
       "        text-align: right;\n",
       "    }\n",
       "</style>\n",
       "<table border=\"1\" class=\"dataframe\">\n",
       "  <thead>\n",
       "    <tr style=\"text-align: right;\">\n",
       "      <th></th>\n",
       "      <th>ProductId</th>\n",
       "      <th>ReviewVolume</th>\n",
       "      <th>MeanSentiment</th>\n",
       "      <th>InventoryNeed</th>\n",
       "    </tr>\n",
       "  </thead>\n",
       "  <tbody>\n",
       "    <tr>\n",
       "      <th>0</th>\n",
       "      <td>B001E4KFG0</td>\n",
       "      <td>1</td>\n",
       "      <td>1.0</td>\n",
       "      <td>1.0</td>\n",
       "    </tr>\n",
       "    <tr>\n",
       "      <th>1</th>\n",
       "      <td>B00813GRG4</td>\n",
       "      <td>1</td>\n",
       "      <td>0.0</td>\n",
       "      <td>0.0</td>\n",
       "    </tr>\n",
       "    <tr>\n",
       "      <th>2</th>\n",
       "      <td>B000LQOCH0</td>\n",
       "      <td>1</td>\n",
       "      <td>1.0</td>\n",
       "      <td>1.0</td>\n",
       "    </tr>\n",
       "    <tr>\n",
       "      <th>3</th>\n",
       "      <td>B000UA0QIQ</td>\n",
       "      <td>1</td>\n",
       "      <td>0.0</td>\n",
       "      <td>0.0</td>\n",
       "    </tr>\n",
       "    <tr>\n",
       "      <th>4</th>\n",
       "      <td>B006K2ZZ7K</td>\n",
       "      <td>4</td>\n",
       "      <td>1.0</td>\n",
       "      <td>4.0</td>\n",
       "    </tr>\n",
       "  </tbody>\n",
       "</table>\n",
       "</div>"
      ],
      "text/plain": [
       "    ProductId  ReviewVolume  MeanSentiment  InventoryNeed\n",
       "0  B001E4KFG0             1            1.0            1.0\n",
       "1  B00813GRG4             1            0.0            0.0\n",
       "2  B000LQOCH0             1            1.0            1.0\n",
       "3  B000UA0QIQ             1            0.0            0.0\n",
       "4  B006K2ZZ7K             4            1.0            4.0"
      ]
     },
     "execution_count": 10,
     "metadata": {},
     "output_type": "execute_result"
    }
   ],
   "source": [
    "print(\"Engineering final features...\")\n",
    "df['ReviewVolume'] = df.groupby('ProductId')['ProductId'].transform('count')\n",
    "df['MeanSentiment'] = df.groupby('ProductId')['Sentiment'].transform('mean')\n",
    "df['InventoryNeed'] = df['ReviewVolume'] * df['MeanSentiment']\n",
    "\n",
    "print(\"Feature engineering complete.\")\n",
    "df[['ProductId', 'ReviewVolume', 'MeanSentiment', 'InventoryNeed']].head()"
   ]
  },
  {
   "cell_type": "markdown",
   "id": "76374087",
   "metadata": {
    "papermill": {
     "duration": 0.00892,
     "end_time": "2025-07-21T22:51:11.483501",
     "exception": false,
     "start_time": "2025-07-21T22:51:11.474581",
     "status": "completed"
    },
    "tags": []
   },
   "source": [
    "# Data preparation"
   ]
  },
  {
   "cell_type": "markdown",
   "id": "5d5fa0ee",
   "metadata": {
    "papermill": {
     "duration": 0.009042,
     "end_time": "2025-07-21T22:51:11.502143",
     "exception": false,
     "start_time": "2025-07-21T22:51:11.493101",
     "status": "completed"
    },
    "tags": []
   },
   "source": [
    "**Defining the Features & Targets**"
   ]
  },
  {
   "cell_type": "code",
   "execution_count": 11,
   "id": "616caa60",
   "metadata": {
    "execution": {
     "iopub.execute_input": "2025-07-21T22:51:11.523041Z",
     "iopub.status.busy": "2025-07-21T22:51:11.521971Z",
     "iopub.status.idle": "2025-07-21T22:51:11.528542Z",
     "shell.execute_reply": "2025-07-21T22:51:11.527627Z"
    },
    "papermill": {
     "duration": 0.01878,
     "end_time": "2025-07-21T22:51:11.530064",
     "exception": false,
     "start_time": "2025-07-21T22:51:11.511284",
     "status": "completed"
    },
    "tags": []
   },
   "outputs": [
    {
     "name": "stdout",
     "output_type": "stream",
     "text": [
      "Preparing data for modeling...\n",
      "Features (X) and Targets (y) are defined. Number of samples: 515721\n"
     ]
    }
   ],
   "source": [
    "# Time to prepare for the model. I'll define my X and y variables.\n",
    "print(\"Preparing data for modeling...\")\n",
    "X = df['CleanedText'].values\n",
    "y_sentiment = df['Sentiment'].values\n",
    "y_inventory = df['InventoryNeed'].values\n",
    "\n",
    "print(f\"Features (X) and Targets (y) are defined. Number of samples: {len(X)}\")"
   ]
  },
  {
   "cell_type": "markdown",
   "id": "1843b7d1",
   "metadata": {
    "papermill": {
     "duration": 0.009156,
     "end_time": "2025-07-21T22:51:11.548819",
     "exception": false,
     "start_time": "2025-07-21T22:51:11.539663",
     "status": "completed"
    },
    "tags": []
   },
   "source": [
    "**Train-test Split**"
   ]
  },
  {
   "cell_type": "code",
   "execution_count": 12,
   "id": "afaf74cc",
   "metadata": {
    "execution": {
     "iopub.execute_input": "2025-07-21T22:51:11.570652Z",
     "iopub.status.busy": "2025-07-21T22:51:11.569849Z",
     "iopub.status.idle": "2025-07-21T22:51:12.111030Z",
     "shell.execute_reply": "2025-07-21T22:51:12.110073Z"
    },
    "papermill": {
     "duration": 0.554137,
     "end_time": "2025-07-21T22:51:12.112909",
     "exception": false,
     "start_time": "2025-07-21T22:51:11.558772",
     "status": "completed"
    },
    "tags": []
   },
   "outputs": [],
   "source": [
    "X_train_val, X_test, y_sentiment_train_val, y_sentiment_test, y_inventory_train_val, y_inventory_test = train_test_split(\n",
    "    X, y_sentiment, y_inventory,\n",
    "    test_size=0.20,\n",
    "    random_state=42,\n",
    "    stratify=y_sentiment\n",
    ")\n",
    "\n",
    "X_train, X_val, y_sentiment_train, y_sentiment_val, y_inventory_train, y_inventory_val = train_test_split(\n",
    "    X_train_val, y_sentiment_train_val, y_inventory_train_val,\n",
    "    test_size=0.25,\n",
    "    random_state=42,\n",
    "    stratify=y_sentiment_train_val\n",
    ")"
   ]
  },
  {
   "cell_type": "markdown",
   "id": "cb5fd5be",
   "metadata": {
    "papermill": {
     "duration": 0.009175,
     "end_time": "2025-07-21T22:51:12.131841",
     "exception": false,
     "start_time": "2025-07-21T22:51:12.122666",
     "status": "completed"
    },
    "tags": []
   },
   "source": [
    "**Scaling the Target Variable**"
   ]
  },
  {
   "cell_type": "code",
   "execution_count": 13,
   "id": "6ce29b33",
   "metadata": {
    "execution": {
     "iopub.execute_input": "2025-07-21T22:51:12.154257Z",
     "iopub.status.busy": "2025-07-21T22:51:12.153098Z",
     "iopub.status.idle": "2025-07-21T22:51:12.167120Z",
     "shell.execute_reply": "2025-07-21T22:51:12.165944Z"
    },
    "papermill": {
     "duration": 0.027479,
     "end_time": "2025-07-21T22:51:12.168913",
     "exception": false,
     "start_time": "2025-07-21T22:51:12.141434",
     "status": "completed"
    },
    "tags": []
   },
   "outputs": [
    {
     "name": "stdout",
     "output_type": "stream",
     "text": [
      "InventoryNeed target scaled successfully for all three sets.\n",
      "Shape of scaled training data: (309432, 1)\n",
      "Shape of scaled validation data: (103144, 1)\n",
      "Shape of scaled test data: (103145, 1)\n"
     ]
    }
   ],
   "source": [
    "inventory_scaler = MinMaxScaler()\n",
    "\n",
    "y_inventory_train_scaled = inventory_scaler.fit_transform(y_inventory_train.reshape(-1, 1))\n",
    "y_inventory_val_scaled = inventory_scaler.transform(y_inventory_val.reshape(-1, 1))\n",
    "y_inventory_test_scaled = inventory_scaler.transform(y_inventory_test.reshape(-1, 1))\n",
    "\n",
    "print(\"InventoryNeed target scaled successfully for all three sets.\")\n",
    "print(f\"Shape of scaled training data: {y_inventory_train_scaled.shape}\")\n",
    "print(f\"Shape of scaled validation data: {y_inventory_val_scaled.shape}\")\n",
    "print(f\"Shape of scaled test data: {y_inventory_test_scaled.shape}\")"
   ]
  },
  {
   "cell_type": "markdown",
   "id": "7f2eeaab",
   "metadata": {
    "papermill": {
     "duration": 0.00932,
     "end_time": "2025-07-21T22:51:12.188238",
     "exception": false,
     "start_time": "2025-07-21T22:51:12.178918",
     "status": "completed"
    },
    "tags": []
   },
   "source": [
    "**Text Vectorization**"
   ]
  },
  {
   "cell_type": "code",
   "execution_count": 14,
   "id": "30d62e71",
   "metadata": {
    "execution": {
     "iopub.execute_input": "2025-07-21T22:51:12.210915Z",
     "iopub.status.busy": "2025-07-21T22:51:12.210506Z",
     "iopub.status.idle": "2025-07-21T22:51:17.700175Z",
     "shell.execute_reply": "2025-07-21T22:51:17.698466Z"
    },
    "papermill": {
     "duration": 5.504381,
     "end_time": "2025-07-21T22:51:17.702349",
     "exception": false,
     "start_time": "2025-07-21T22:51:12.197968",
     "status": "completed"
    },
    "tags": []
   },
   "outputs": [
    {
     "name": "stdout",
     "output_type": "stream",
     "text": [
      "Adapting the vectorizer to the training text...\n"
     ]
    },
    {
     "name": "stderr",
     "output_type": "stream",
     "text": [
      "2025-07-21 22:51:12.218121: E external/local_xla/xla/stream_executor/cuda/cuda_driver.cc:152] failed call to cuInit: INTERNAL: CUDA error: Failed call to cuInit: UNKNOWN ERROR (303)\n"
     ]
    },
    {
     "name": "stdout",
     "output_type": "stream",
     "text": [
      "Vectorizer is ready.\n"
     ]
    }
   ],
   "source": [
    "# Finally, I'll set up the text vectorizer and adapt it to my training data.\n",
    "MAX_TOKENS = 20000\n",
    "MAX_LEN = 220\n",
    "#I chose the max_len to be 220 as we can use the graph that the over 98 percentile of reviews have the above length majorly\n",
    "vectorizer = TextVectorization(max_tokens=MAX_TOKENS, output_mode='int', output_sequence_length=MAX_LEN)\n",
    "\n",
    "print(\"Adapting the vectorizer to the training text...\")\n",
    "vectorizer.adapt(X_train)\n",
    "print(\"Vectorizer is ready.\")"
   ]
  },
  {
   "cell_type": "markdown",
   "id": "c57a7860",
   "metadata": {
    "papermill": {
     "duration": 0.009603,
     "end_time": "2025-07-21T22:51:17.722122",
     "exception": false,
     "start_time": "2025-07-21T22:51:17.712519",
     "status": "completed"
    },
    "tags": []
   },
   "source": [
    "# Model Building"
   ]
  },
  {
   "cell_type": "code",
   "execution_count": 15,
   "id": "464576a7",
   "metadata": {
    "execution": {
     "iopub.execute_input": "2025-07-21T22:51:17.743291Z",
     "iopub.status.busy": "2025-07-21T22:51:17.742848Z",
     "iopub.status.idle": "2025-07-21T22:51:17.948042Z",
     "shell.execute_reply": "2025-07-21T22:51:17.947091Z"
    },
    "papermill": {
     "duration": 0.218051,
     "end_time": "2025-07-21T22:51:17.950047",
     "exception": false,
     "start_time": "2025-07-21T22:51:17.731996",
     "status": "completed"
    },
    "tags": []
   },
   "outputs": [
    {
     "name": "stdout",
     "output_type": "stream",
     "text": [
      "Building the advanced multitask model...\n"
     ]
    }
   ],
   "source": [
    "from tensorflow.keras.layers import Input, Embedding, Conv1D, GlobalMaxPooling1D, Bidirectional, LSTM, Dense, Dropout\n",
    "from tensorflow.keras.models import Model\n",
    "\n",
    "print(\"Building the advanced multitask model...\")\n",
    "\n",
    "# 1. Shared Input and Embedding Layers\n",
    "input_layer = Input(shape=(1,), dtype=tf.string, name='text_input')\n",
    "vec_layer = vectorizer(input_layer)\n",
    "embedding_layer = Embedding(input_dim=MAX_TOKENS, output_dim=128, name='embedding')(vec_layer)\n",
    "\n",
    "# --- Tower 1: Sentiment Analysis (Original LSTM architecture) ---\n",
    "# This branch is dedicated to the sentiment task.\n",
    "lstm_for_sentiment = Bidirectional(LSTM(64), name='sentiment_lstm')(embedding_layer)\n",
    "sentiment_output = Dense(1, activation='sigmoid', name='sentiment_output')(lstm_for_sentiment)\n",
    "\n",
    "\n",
    "# --- Tower 2: Inventory Regression (Advanced CNN architecture) ---\n",
    "# This branch is dedicated to the inventory task.\n",
    "conv_for_inventory = Conv1D(filters=128, kernel_size=5, activation='relu', name='inventory_cnn')(embedding_layer)\n",
    "pool_for_inventory = GlobalMaxPooling1D(name='inventory_pooling')(conv_for_inventory)\n",
    "dense_1_inventory = Dense(128, activation='relu', name='inventory_dense_1')(pool_for_inventory)\n",
    "dropout_1_inventory = Dropout(0.5, name='inventory_dropout_1')(dense_1_inventory)\n",
    "dense_2_inventory = Dense(64, activation='relu', name='inventory_dense_2')(dropout_1_inventory)\n",
    "dropout_2_inventory = Dropout(0.5, name='inventory_dropout_2')(dense_2_inventory)\n",
    "inventory_output = Dense(1, activation='linear', name='inventory_output')(dropout_2_inventory)\n",
    "\n",
    "\n",
    "# 3. Create and Compile the Final Model\n",
    "# The model takes one input and has two separate outputs.\n",
    "model = Model(\n",
    "    inputs=input_layer,\n",
    "    outputs=[sentiment_output, inventory_output]\n",
    ")\n",
    "\n",
    "# Compile with two losses and two sets of metrics\n",
    "model.compile(\n",
    "    optimizer='adam',\n",
    "    loss={\n",
    "        'sentiment_output': 'binary_crossentropy',\n",
    "        'inventory_output': 'mean_squared_error'\n",
    "    },\n",
    "    metrics={\n",
    "        'sentiment_output': 'accuracy',\n",
    "        'inventory_output': 'mae'\n",
    "    },\n",
    "    loss_weights={'sentiment_output': 1.0, 'inventory_output': 0.5} # Balances the two tasks\n",
    ")"
   ]
  },
  {
   "cell_type": "code",
   "execution_count": 16,
   "id": "2f7f92c7",
   "metadata": {
    "execution": {
     "iopub.execute_input": "2025-07-21T22:51:17.971319Z",
     "iopub.status.busy": "2025-07-21T22:51:17.970912Z",
     "iopub.status.idle": "2025-07-21T22:51:17.997946Z",
     "shell.execute_reply": "2025-07-21T22:51:17.996981Z"
    },
    "papermill": {
     "duration": 0.039397,
     "end_time": "2025-07-21T22:51:17.999528",
     "exception": false,
     "start_time": "2025-07-21T22:51:17.960131",
     "status": "completed"
    },
    "tags": []
   },
   "outputs": [
    {
     "data": {
      "text/html": [
       "<pre style=\"white-space:pre;overflow-x:auto;line-height:normal;font-family:Menlo,'DejaVu Sans Mono',consolas,'Courier New',monospace\"><span style=\"font-weight: bold\">Model: \"functional\"</span>\n",
       "</pre>\n"
      ],
      "text/plain": [
       "\u001b[1mModel: \"functional\"\u001b[0m\n"
      ]
     },
     "metadata": {},
     "output_type": "display_data"
    },
    {
     "data": {
      "text/html": [
       "<pre style=\"white-space:pre;overflow-x:auto;line-height:normal;font-family:Menlo,'DejaVu Sans Mono',consolas,'Courier New',monospace\">┏━━━━━━━━━━━━━━━━━━━━━┳━━━━━━━━━━━━━━━━━━━┳━━━━━━━━━━━━┳━━━━━━━━━━━━━━━━━━━┓\n",
       "┃<span style=\"font-weight: bold\"> Layer (type)        </span>┃<span style=\"font-weight: bold\"> Output Shape      </span>┃<span style=\"font-weight: bold\">    Param # </span>┃<span style=\"font-weight: bold\"> Connected to      </span>┃\n",
       "┡━━━━━━━━━━━━━━━━━━━━━╇━━━━━━━━━━━━━━━━━━━╇━━━━━━━━━━━━╇━━━━━━━━━━━━━━━━━━━┩\n",
       "│ text_input          │ (<span style=\"color: #00d7ff; text-decoration-color: #00d7ff\">None</span>, <span style=\"color: #00af00; text-decoration-color: #00af00\">1</span>)         │          <span style=\"color: #00af00; text-decoration-color: #00af00\">0</span> │ -                 │\n",
       "│ (<span style=\"color: #0087ff; text-decoration-color: #0087ff\">InputLayer</span>)        │                   │            │                   │\n",
       "├─────────────────────┼───────────────────┼────────────┼───────────────────┤\n",
       "│ text_vectorization  │ (<span style=\"color: #00d7ff; text-decoration-color: #00d7ff\">None</span>, <span style=\"color: #00af00; text-decoration-color: #00af00\">220</span>)       │          <span style=\"color: #00af00; text-decoration-color: #00af00\">0</span> │ text_input[<span style=\"color: #00af00; text-decoration-color: #00af00\">0</span>][<span style=\"color: #00af00; text-decoration-color: #00af00\">0</span>]  │\n",
       "│ (<span style=\"color: #0087ff; text-decoration-color: #0087ff\">TextVectorization</span>) │                   │            │                   │\n",
       "├─────────────────────┼───────────────────┼────────────┼───────────────────┤\n",
       "│ embedding           │ (<span style=\"color: #00d7ff; text-decoration-color: #00d7ff\">None</span>, <span style=\"color: #00af00; text-decoration-color: #00af00\">220</span>, <span style=\"color: #00af00; text-decoration-color: #00af00\">128</span>)  │  <span style=\"color: #00af00; text-decoration-color: #00af00\">2,560,000</span> │ text_vectorizati… │\n",
       "│ (<span style=\"color: #0087ff; text-decoration-color: #0087ff\">Embedding</span>)         │                   │            │                   │\n",
       "├─────────────────────┼───────────────────┼────────────┼───────────────────┤\n",
       "│ inventory_cnn       │ (<span style=\"color: #00d7ff; text-decoration-color: #00d7ff\">None</span>, <span style=\"color: #00af00; text-decoration-color: #00af00\">216</span>, <span style=\"color: #00af00; text-decoration-color: #00af00\">128</span>)  │     <span style=\"color: #00af00; text-decoration-color: #00af00\">82,048</span> │ embedding[<span style=\"color: #00af00; text-decoration-color: #00af00\">0</span>][<span style=\"color: #00af00; text-decoration-color: #00af00\">0</span>]   │\n",
       "│ (<span style=\"color: #0087ff; text-decoration-color: #0087ff\">Conv1D</span>)            │                   │            │                   │\n",
       "├─────────────────────┼───────────────────┼────────────┼───────────────────┤\n",
       "│ inventory_pooling   │ (<span style=\"color: #00d7ff; text-decoration-color: #00d7ff\">None</span>, <span style=\"color: #00af00; text-decoration-color: #00af00\">128</span>)       │          <span style=\"color: #00af00; text-decoration-color: #00af00\">0</span> │ inventory_cnn[<span style=\"color: #00af00; text-decoration-color: #00af00\">0</span>]… │\n",
       "│ (<span style=\"color: #0087ff; text-decoration-color: #0087ff\">GlobalMaxPooling1…</span> │                   │            │                   │\n",
       "├─────────────────────┼───────────────────┼────────────┼───────────────────┤\n",
       "│ inventory_dense_1   │ (<span style=\"color: #00d7ff; text-decoration-color: #00d7ff\">None</span>, <span style=\"color: #00af00; text-decoration-color: #00af00\">128</span>)       │     <span style=\"color: #00af00; text-decoration-color: #00af00\">16,512</span> │ inventory_poolin… │\n",
       "│ (<span style=\"color: #0087ff; text-decoration-color: #0087ff\">Dense</span>)             │                   │            │                   │\n",
       "├─────────────────────┼───────────────────┼────────────┼───────────────────┤\n",
       "│ inventory_dropout_1 │ (<span style=\"color: #00d7ff; text-decoration-color: #00d7ff\">None</span>, <span style=\"color: #00af00; text-decoration-color: #00af00\">128</span>)       │          <span style=\"color: #00af00; text-decoration-color: #00af00\">0</span> │ inventory_dense_… │\n",
       "│ (<span style=\"color: #0087ff; text-decoration-color: #0087ff\">Dropout</span>)           │                   │            │                   │\n",
       "├─────────────────────┼───────────────────┼────────────┼───────────────────┤\n",
       "│ inventory_dense_2   │ (<span style=\"color: #00d7ff; text-decoration-color: #00d7ff\">None</span>, <span style=\"color: #00af00; text-decoration-color: #00af00\">64</span>)        │      <span style=\"color: #00af00; text-decoration-color: #00af00\">8,256</span> │ inventory_dropou… │\n",
       "│ (<span style=\"color: #0087ff; text-decoration-color: #0087ff\">Dense</span>)             │                   │            │                   │\n",
       "├─────────────────────┼───────────────────┼────────────┼───────────────────┤\n",
       "│ sentiment_lstm      │ (<span style=\"color: #00d7ff; text-decoration-color: #00d7ff\">None</span>, <span style=\"color: #00af00; text-decoration-color: #00af00\">128</span>)       │     <span style=\"color: #00af00; text-decoration-color: #00af00\">98,816</span> │ embedding[<span style=\"color: #00af00; text-decoration-color: #00af00\">0</span>][<span style=\"color: #00af00; text-decoration-color: #00af00\">0</span>]   │\n",
       "│ (<span style=\"color: #0087ff; text-decoration-color: #0087ff\">Bidirectional</span>)     │                   │            │                   │\n",
       "├─────────────────────┼───────────────────┼────────────┼───────────────────┤\n",
       "│ inventory_dropout_2 │ (<span style=\"color: #00d7ff; text-decoration-color: #00d7ff\">None</span>, <span style=\"color: #00af00; text-decoration-color: #00af00\">64</span>)        │          <span style=\"color: #00af00; text-decoration-color: #00af00\">0</span> │ inventory_dense_… │\n",
       "│ (<span style=\"color: #0087ff; text-decoration-color: #0087ff\">Dropout</span>)           │                   │            │                   │\n",
       "├─────────────────────┼───────────────────┼────────────┼───────────────────┤\n",
       "│ sentiment_output    │ (<span style=\"color: #00d7ff; text-decoration-color: #00d7ff\">None</span>, <span style=\"color: #00af00; text-decoration-color: #00af00\">1</span>)         │        <span style=\"color: #00af00; text-decoration-color: #00af00\">129</span> │ sentiment_lstm[<span style=\"color: #00af00; text-decoration-color: #00af00\">0</span>… │\n",
       "│ (<span style=\"color: #0087ff; text-decoration-color: #0087ff\">Dense</span>)             │                   │            │                   │\n",
       "├─────────────────────┼───────────────────┼────────────┼───────────────────┤\n",
       "│ inventory_output    │ (<span style=\"color: #00d7ff; text-decoration-color: #00d7ff\">None</span>, <span style=\"color: #00af00; text-decoration-color: #00af00\">1</span>)         │         <span style=\"color: #00af00; text-decoration-color: #00af00\">65</span> │ inventory_dropou… │\n",
       "│ (<span style=\"color: #0087ff; text-decoration-color: #0087ff\">Dense</span>)             │                   │            │                   │\n",
       "└─────────────────────┴───────────────────┴────────────┴───────────────────┘\n",
       "</pre>\n"
      ],
      "text/plain": [
       "┏━━━━━━━━━━━━━━━━━━━━━┳━━━━━━━━━━━━━━━━━━━┳━━━━━━━━━━━━┳━━━━━━━━━━━━━━━━━━━┓\n",
       "┃\u001b[1m \u001b[0m\u001b[1mLayer (type)       \u001b[0m\u001b[1m \u001b[0m┃\u001b[1m \u001b[0m\u001b[1mOutput Shape     \u001b[0m\u001b[1m \u001b[0m┃\u001b[1m \u001b[0m\u001b[1m   Param #\u001b[0m\u001b[1m \u001b[0m┃\u001b[1m \u001b[0m\u001b[1mConnected to     \u001b[0m\u001b[1m \u001b[0m┃\n",
       "┡━━━━━━━━━━━━━━━━━━━━━╇━━━━━━━━━━━━━━━━━━━╇━━━━━━━━━━━━╇━━━━━━━━━━━━━━━━━━━┩\n",
       "│ text_input          │ (\u001b[38;5;45mNone\u001b[0m, \u001b[38;5;34m1\u001b[0m)         │          \u001b[38;5;34m0\u001b[0m │ -                 │\n",
       "│ (\u001b[38;5;33mInputLayer\u001b[0m)        │                   │            │                   │\n",
       "├─────────────────────┼───────────────────┼────────────┼───────────────────┤\n",
       "│ text_vectorization  │ (\u001b[38;5;45mNone\u001b[0m, \u001b[38;5;34m220\u001b[0m)       │          \u001b[38;5;34m0\u001b[0m │ text_input[\u001b[38;5;34m0\u001b[0m][\u001b[38;5;34m0\u001b[0m]  │\n",
       "│ (\u001b[38;5;33mTextVectorization\u001b[0m) │                   │            │                   │\n",
       "├─────────────────────┼───────────────────┼────────────┼───────────────────┤\n",
       "│ embedding           │ (\u001b[38;5;45mNone\u001b[0m, \u001b[38;5;34m220\u001b[0m, \u001b[38;5;34m128\u001b[0m)  │  \u001b[38;5;34m2,560,000\u001b[0m │ text_vectorizati… │\n",
       "│ (\u001b[38;5;33mEmbedding\u001b[0m)         │                   │            │                   │\n",
       "├─────────────────────┼───────────────────┼────────────┼───────────────────┤\n",
       "│ inventory_cnn       │ (\u001b[38;5;45mNone\u001b[0m, \u001b[38;5;34m216\u001b[0m, \u001b[38;5;34m128\u001b[0m)  │     \u001b[38;5;34m82,048\u001b[0m │ embedding[\u001b[38;5;34m0\u001b[0m][\u001b[38;5;34m0\u001b[0m]   │\n",
       "│ (\u001b[38;5;33mConv1D\u001b[0m)            │                   │            │                   │\n",
       "├─────────────────────┼───────────────────┼────────────┼───────────────────┤\n",
       "│ inventory_pooling   │ (\u001b[38;5;45mNone\u001b[0m, \u001b[38;5;34m128\u001b[0m)       │          \u001b[38;5;34m0\u001b[0m │ inventory_cnn[\u001b[38;5;34m0\u001b[0m]… │\n",
       "│ (\u001b[38;5;33mGlobalMaxPooling1…\u001b[0m │                   │            │                   │\n",
       "├─────────────────────┼───────────────────┼────────────┼───────────────────┤\n",
       "│ inventory_dense_1   │ (\u001b[38;5;45mNone\u001b[0m, \u001b[38;5;34m128\u001b[0m)       │     \u001b[38;5;34m16,512\u001b[0m │ inventory_poolin… │\n",
       "│ (\u001b[38;5;33mDense\u001b[0m)             │                   │            │                   │\n",
       "├─────────────────────┼───────────────────┼────────────┼───────────────────┤\n",
       "│ inventory_dropout_1 │ (\u001b[38;5;45mNone\u001b[0m, \u001b[38;5;34m128\u001b[0m)       │          \u001b[38;5;34m0\u001b[0m │ inventory_dense_… │\n",
       "│ (\u001b[38;5;33mDropout\u001b[0m)           │                   │            │                   │\n",
       "├─────────────────────┼───────────────────┼────────────┼───────────────────┤\n",
       "│ inventory_dense_2   │ (\u001b[38;5;45mNone\u001b[0m, \u001b[38;5;34m64\u001b[0m)        │      \u001b[38;5;34m8,256\u001b[0m │ inventory_dropou… │\n",
       "│ (\u001b[38;5;33mDense\u001b[0m)             │                   │            │                   │\n",
       "├─────────────────────┼───────────────────┼────────────┼───────────────────┤\n",
       "│ sentiment_lstm      │ (\u001b[38;5;45mNone\u001b[0m, \u001b[38;5;34m128\u001b[0m)       │     \u001b[38;5;34m98,816\u001b[0m │ embedding[\u001b[38;5;34m0\u001b[0m][\u001b[38;5;34m0\u001b[0m]   │\n",
       "│ (\u001b[38;5;33mBidirectional\u001b[0m)     │                   │            │                   │\n",
       "├─────────────────────┼───────────────────┼────────────┼───────────────────┤\n",
       "│ inventory_dropout_2 │ (\u001b[38;5;45mNone\u001b[0m, \u001b[38;5;34m64\u001b[0m)        │          \u001b[38;5;34m0\u001b[0m │ inventory_dense_… │\n",
       "│ (\u001b[38;5;33mDropout\u001b[0m)           │                   │            │                   │\n",
       "├─────────────────────┼───────────────────┼────────────┼───────────────────┤\n",
       "│ sentiment_output    │ (\u001b[38;5;45mNone\u001b[0m, \u001b[38;5;34m1\u001b[0m)         │        \u001b[38;5;34m129\u001b[0m │ sentiment_lstm[\u001b[38;5;34m0\u001b[0m… │\n",
       "│ (\u001b[38;5;33mDense\u001b[0m)             │                   │            │                   │\n",
       "├─────────────────────┼───────────────────┼────────────┼───────────────────┤\n",
       "│ inventory_output    │ (\u001b[38;5;45mNone\u001b[0m, \u001b[38;5;34m1\u001b[0m)         │         \u001b[38;5;34m65\u001b[0m │ inventory_dropou… │\n",
       "│ (\u001b[38;5;33mDense\u001b[0m)             │                   │            │                   │\n",
       "└─────────────────────┴───────────────────┴────────────┴───────────────────┘\n"
      ]
     },
     "metadata": {},
     "output_type": "display_data"
    },
    {
     "data": {
      "text/html": [
       "<pre style=\"white-space:pre;overflow-x:auto;line-height:normal;font-family:Menlo,'DejaVu Sans Mono',consolas,'Courier New',monospace\"><span style=\"font-weight: bold\"> Total params: </span><span style=\"color: #00af00; text-decoration-color: #00af00\">2,765,826</span> (10.55 MB)\n",
       "</pre>\n"
      ],
      "text/plain": [
       "\u001b[1m Total params: \u001b[0m\u001b[38;5;34m2,765,826\u001b[0m (10.55 MB)\n"
      ]
     },
     "metadata": {},
     "output_type": "display_data"
    },
    {
     "data": {
      "text/html": [
       "<pre style=\"white-space:pre;overflow-x:auto;line-height:normal;font-family:Menlo,'DejaVu Sans Mono',consolas,'Courier New',monospace\"><span style=\"font-weight: bold\"> Trainable params: </span><span style=\"color: #00af00; text-decoration-color: #00af00\">2,765,826</span> (10.55 MB)\n",
       "</pre>\n"
      ],
      "text/plain": [
       "\u001b[1m Trainable params: \u001b[0m\u001b[38;5;34m2,765,826\u001b[0m (10.55 MB)\n"
      ]
     },
     "metadata": {},
     "output_type": "display_data"
    },
    {
     "data": {
      "text/html": [
       "<pre style=\"white-space:pre;overflow-x:auto;line-height:normal;font-family:Menlo,'DejaVu Sans Mono',consolas,'Courier New',monospace\"><span style=\"font-weight: bold\"> Non-trainable params: </span><span style=\"color: #00af00; text-decoration-color: #00af00\">0</span> (0.00 B)\n",
       "</pre>\n"
      ],
      "text/plain": [
       "\u001b[1m Non-trainable params: \u001b[0m\u001b[38;5;34m0\u001b[0m (0.00 B)\n"
      ]
     },
     "metadata": {},
     "output_type": "display_data"
    }
   ],
   "source": [
    "model.summary()"
   ]
  },
  {
   "cell_type": "markdown",
   "id": "02692490",
   "metadata": {
    "papermill": {
     "duration": 0.010265,
     "end_time": "2025-07-21T22:51:18.020930",
     "exception": false,
     "start_time": "2025-07-21T22:51:18.010665",
     "status": "completed"
    },
    "tags": []
   },
   "source": [
    "# Model Training"
   ]
  },
  {
   "cell_type": "code",
   "execution_count": 17,
   "id": "2cc093f5",
   "metadata": {
    "execution": {
     "iopub.execute_input": "2025-07-21T22:51:18.044517Z",
     "iopub.status.busy": "2025-07-21T22:51:18.044165Z",
     "iopub.status.idle": "2025-07-22T03:05:39.943394Z",
     "shell.execute_reply": "2025-07-22T03:05:39.942135Z"
    },
    "papermill": {
     "duration": 15264.859307,
     "end_time": "2025-07-22T03:05:42.890654",
     "exception": false,
     "start_time": "2025-07-21T22:51:18.031347",
     "status": "completed"
    },
    "tags": []
   },
   "outputs": [
    {
     "name": "stdout",
     "output_type": "stream",
     "text": [
      "\n",
      "Training the new advanced multitask model...\n",
      "Epoch 1/10\n",
      "\u001b[1m4835/4835\u001b[0m \u001b[32m━━━━━━━━━━━━━━━━━━━━\u001b[0m\u001b[37m\u001b[0m \u001b[1m1503s\u001b[0m 309ms/step - inventory_output_loss: 0.0179 - inventory_output_mae: 0.0942 - loss: 0.2292 - sentiment_output_accuracy: 0.9140 - sentiment_output_loss: 0.2202 - val_inventory_output_loss: 0.0176 - val_inventory_output_mae: 0.0946 - val_loss: 0.1665 - val_sentiment_output_accuracy: 0.9393 - val_sentiment_output_loss: 0.1577\n",
      "Epoch 2/10\n",
      "\u001b[1m4835/4835\u001b[0m \u001b[32m━━━━━━━━━━━━━━━━━━━━\u001b[0m\u001b[37m\u001b[0m \u001b[1m1493s\u001b[0m 309ms/step - inventory_output_loss: 0.0174 - inventory_output_mae: 0.0938 - loss: 0.1309 - sentiment_output_accuracy: 0.9541 - sentiment_output_loss: 0.1222 - val_inventory_output_loss: 0.0176 - val_inventory_output_mae: 0.0957 - val_loss: 0.1499 - val_sentiment_output_accuracy: 0.9481 - val_sentiment_output_loss: 0.1411\n",
      "Epoch 3/10\n",
      "\u001b[1m4835/4835\u001b[0m \u001b[32m━━━━━━━━━━━━━━━━━━━━\u001b[0m\u001b[37m\u001b[0m \u001b[1m1492s\u001b[0m 308ms/step - inventory_output_loss: 0.0176 - inventory_output_mae: 0.0942 - loss: 0.0946 - sentiment_output_accuracy: 0.9687 - sentiment_output_loss: 0.0858 - val_inventory_output_loss: 0.0176 - val_inventory_output_mae: 0.0940 - val_loss: 0.1519 - val_sentiment_output_accuracy: 0.9507 - val_sentiment_output_loss: 0.1431\n",
      "Epoch 4/10\n",
      "\u001b[1m4835/4835\u001b[0m \u001b[32m━━━━━━━━━━━━━━━━━━━━\u001b[0m\u001b[37m\u001b[0m \u001b[1m1488s\u001b[0m 308ms/step - inventory_output_loss: 0.0176 - inventory_output_mae: 0.0940 - loss: 0.0698 - sentiment_output_accuracy: 0.9782 - sentiment_output_loss: 0.0610 - val_inventory_output_loss: 0.0176 - val_inventory_output_mae: 0.0946 - val_loss: 0.1728 - val_sentiment_output_accuracy: 0.9509 - val_sentiment_output_loss: 0.1640\n",
      "Epoch 5/10\n",
      "\u001b[1m4835/4835\u001b[0m \u001b[32m━━━━━━━━━━━━━━━━━━━━\u001b[0m\u001b[37m\u001b[0m \u001b[1m1507s\u001b[0m 312ms/step - inventory_output_loss: 0.0177 - inventory_output_mae: 0.0942 - loss: 0.0473 - sentiment_output_accuracy: 0.9870 - sentiment_output_loss: 0.0385 - val_inventory_output_loss: 0.0176 - val_inventory_output_mae: 0.0930 - val_loss: 0.1911 - val_sentiment_output_accuracy: 0.9500 - val_sentiment_output_loss: 0.1823\n",
      "Epoch 6/10\n",
      "\u001b[1m4835/4835\u001b[0m \u001b[32m━━━━━━━━━━━━━━━━━━━━\u001b[0m\u001b[37m\u001b[0m \u001b[1m1503s\u001b[0m 311ms/step - inventory_output_loss: 0.0176 - inventory_output_mae: 0.0938 - loss: 0.0345 - sentiment_output_accuracy: 0.9915 - sentiment_output_loss: 0.0257 - val_inventory_output_loss: 0.0176 - val_inventory_output_mae: 0.0925 - val_loss: 0.2254 - val_sentiment_output_accuracy: 0.9515 - val_sentiment_output_loss: 0.2167\n",
      "Epoch 7/10\n",
      "\u001b[1m4835/4835\u001b[0m \u001b[32m━━━━━━━━━━━━━━━━━━━━\u001b[0m\u001b[37m\u001b[0m \u001b[1m1519s\u001b[0m 314ms/step - inventory_output_loss: 0.0175 - inventory_output_mae: 0.0937 - loss: 0.0248 - sentiment_output_accuracy: 0.9951 - sentiment_output_loss: 0.0160 - val_inventory_output_loss: 0.0176 - val_inventory_output_mae: 0.0938 - val_loss: 0.2634 - val_sentiment_output_accuracy: 0.9486 - val_sentiment_output_loss: 0.2546\n",
      "Epoch 8/10\n",
      "\u001b[1m4835/4835\u001b[0m \u001b[32m━━━━━━━━━━━━━━━━━━━━\u001b[0m\u001b[37m\u001b[0m \u001b[1m1534s\u001b[0m 317ms/step - inventory_output_loss: 0.0176 - inventory_output_mae: 0.0942 - loss: 0.0195 - sentiment_output_accuracy: 0.9966 - sentiment_output_loss: 0.0107 - val_inventory_output_loss: 0.0176 - val_inventory_output_mae: 0.0937 - val_loss: 0.2865 - val_sentiment_output_accuracy: 0.9479 - val_sentiment_output_loss: 0.2777\n",
      "Epoch 9/10\n",
      "\u001b[1m4835/4835\u001b[0m \u001b[32m━━━━━━━━━━━━━━━━━━━━\u001b[0m\u001b[37m\u001b[0m \u001b[1m1543s\u001b[0m 319ms/step - inventory_output_loss: 0.0175 - inventory_output_mae: 0.0940 - loss: 0.0164 - sentiment_output_accuracy: 0.9977 - sentiment_output_loss: 0.0076 - val_inventory_output_loss: 0.0176 - val_inventory_output_mae: 0.0951 - val_loss: 0.3257 - val_sentiment_output_accuracy: 0.9469 - val_sentiment_output_loss: 0.3169\n",
      "Epoch 10/10\n",
      "\u001b[1m4835/4835\u001b[0m \u001b[32m━━━━━━━━━━━━━━━━━━━━\u001b[0m\u001b[37m\u001b[0m \u001b[1m1542s\u001b[0m 319ms/step - inventory_output_loss: 0.0175 - inventory_output_mae: 0.0938 - loss: 0.0149 - sentiment_output_accuracy: 0.9983 - sentiment_output_loss: 0.0061 - val_inventory_output_loss: 0.0176 - val_inventory_output_mae: 0.0950 - val_loss: 0.3277 - val_sentiment_output_accuracy: 0.9503 - val_sentiment_output_loss: 0.3189\n",
      "\n",
      "--- Final Evaluation on the Test Set ---\n",
      "Final Test Accuracy: 0.0953\n",
      "Final Test MAE: 0.9494\n"
     ]
    }
   ],
   "source": [
    "# Now training the model is my goal\n",
    "print(\"\\nTraining the new advanced multitask model...\")\n",
    "\n",
    "history = model.fit(\n",
    "    X_train,\n",
    "    {'sentiment_output': y_sentiment_train, 'inventory_output': y_inventory_train_scaled},\n",
    "    # Use the validation set here\n",
    "    validation_data=(\n",
    "        X_val,\n",
    "        {'sentiment_output': y_sentiment_val, 'inventory_output': y_inventory_val_scaled}\n",
    "    ),\n",
    "    epochs=10,\n",
    "    batch_size=64,\n",
    "    verbose=1\n",
    ")\n",
    "\n",
    "# --- After training is complete, evaluate on the final test set ---\n",
    "print(\"\\n--- Final Evaluation on the Test Set ---\")\n",
    "final_scores = model.evaluate(\n",
    "    X_test,\n",
    "    {'sentiment_output': y_sentiment_test, 'inventory_output': y_inventory_test_scaled},\n",
    "    verbose=0\n",
    ")\n",
    "\n",
    "# Keras's model.evaluate returns: [total_loss, sentiment_loss, inventory_loss, sentiment_accuracy, inventory_mae]\n",
    "print(f\"Final Test Accuracy: {final_scores[3]:.4f}\")\n",
    "print(f\"Final Test MAE: {final_scores[4]:.4f}\")"
   ]
  },
  {
   "cell_type": "markdown",
   "id": "7f4128ce",
   "metadata": {
    "papermill": {
     "duration": 2.85345,
     "end_time": "2025-07-22T03:05:48.588298",
     "exception": false,
     "start_time": "2025-07-22T03:05:45.734848",
     "status": "completed"
    },
    "tags": []
   },
   "source": [
    "# Evaluation & Insights"
   ]
  },
  {
   "cell_type": "markdown",
   "id": "a3cb896e",
   "metadata": {
    "papermill": {
     "duration": 2.992732,
     "end_time": "2025-07-22T03:05:54.600025",
     "exception": false,
     "start_time": "2025-07-22T03:05:51.607293",
     "status": "completed"
    },
    "tags": []
   },
   "source": [
    "**Plotting the Training History**"
   ]
  },
  {
   "cell_type": "code",
   "execution_count": 18,
   "id": "db05081b",
   "metadata": {
    "execution": {
     "iopub.execute_input": "2025-07-22T03:06:00.344787Z",
     "iopub.status.busy": "2025-07-22T03:06:00.344466Z",
     "iopub.status.idle": "2025-07-22T03:06:01.665079Z",
     "shell.execute_reply": "2025-07-22T03:06:01.664124Z"
    },
    "papermill": {
     "duration": 4.243642,
     "end_time": "2025-07-22T03:06:01.668313",
     "exception": false,
     "start_time": "2025-07-22T03:05:57.424671",
     "status": "completed"
    },
    "tags": []
   },
   "outputs": [
    {
     "name": "stdout",
     "output_type": "stream",
     "text": [
      "Visualizing training history...\n"
     ]
    },
    {
     "data": {
      "image/png": "[encoded data removed]",
      "text/plain": [
       "<Figure size 1600x1000 with 4 Axes>"
      ]
     },
     "metadata": {},
     "output_type": "display_data"
    }
   ],
   "source": [
    "# Now to evaluate. I'll start by plotting the training history to see how it went.\n",
    "print(\"Visualizing training history...\")\n",
    "history_df = pd.DataFrame(history.history)\n",
    "fig, axes = plt.subplots(2, 2, figsize=(16, 10))\n",
    "fig.suptitle('Model Training History', fontsize=16)\n",
    "\n",
    "axes[0, 0].plot(history_df['sentiment_output_accuracy'], label='Train Accuracy')\n",
    "axes[0, 0].plot(history_df['val_sentiment_output_accuracy'], label='Validation Accuracy')\n",
    "axes[0, 0].set_title('Sentiment Classification Accuracy'); axes[0, 0].legend()\n",
    "\n",
    "axes[0, 1].plot(history_df['sentiment_output_loss'], label='Train Loss')\n",
    "axes[0, 1].plot(history_df['val_sentiment_output_loss'], label='Validation Loss')\n",
    "axes[0, 1].set_title('Sentiment Classification Loss'); axes[0, 1].legend()\n",
    "\n",
    "axes[1, 0].plot(history_df['inventory_output_mae'], label='Train MAE')\n",
    "axes[1, 0].plot(history_df['val_inventory_output_mae'], label='Validation MAE')\n",
    "axes[1, 0].set_title('Inventory Regression MAE'); axes[1, 0].legend()\n",
    "\n",
    "axes[1, 1].plot(history_df['inventory_output_loss'], label='Train Loss')\n",
    "axes[1, 1].plot(history_df['val_inventory_output_loss'], label='Validation Loss')\n",
    "axes[1, 1].set_title('Inventory Regression Loss'); axes[1, 1].legend()\n",
    "\n",
    "plt.tight_layout(rect=[0, 0.03, 1, 0.95]);\n",
    "plt.show()"
   ]
  },
  {
   "cell_type": "markdown",
   "id": "a7842b29",
   "metadata": {
    "papermill": {
     "duration": 3.089287,
     "end_time": "2025-07-22T03:06:07.688033",
     "exception": false,
     "start_time": "2025-07-22T03:06:04.598746",
     "status": "completed"
    },
    "tags": []
   },
   "source": [
    "**Making Predictions**"
   ]
  },
  {
   "cell_type": "code",
   "execution_count": 19,
   "id": "07c38767",
   "metadata": {
    "execution": {
     "iopub.execute_input": "2025-07-22T03:06:13.636042Z",
     "iopub.status.busy": "2025-07-22T03:06:13.635645Z",
     "iopub.status.idle": "2025-07-22T03:08:41.921144Z",
     "shell.execute_reply": "2025-07-22T03:08:41.920042Z"
    },
    "papermill": {
     "duration": 151.318686,
     "end_time": "2025-07-22T03:08:41.922699",
     "exception": false,
     "start_time": "2025-07-22T03:06:10.604013",
     "status": "completed"
    },
    "tags": []
   },
   "outputs": [
    {
     "name": "stdout",
     "output_type": "stream",
     "text": [
      "Making predictions on the test set...\n",
      "\u001b[1m3224/3224\u001b[0m \u001b[32m━━━━━━━━━━━━━━━━━━━━\u001b[0m\u001b[37m\u001b[0m \u001b[1m145s\u001b[0m 45ms/step\n",
      "Predictions are ready.\n"
     ]
    }
   ],
   "source": [
    "# Let's use the trained model to make predictions on the test set.\n",
    "print(\"Making predictions on the test set...\")\n",
    "pred_sentiment, pred_inventory_scaled = model.predict(X_test)\n",
    "\n",
    "# I need to un-scale the inventory predictions to make sense of them.\n",
    "pred_inventory = inventory_scaler.inverse_transform(pred_inventory_scaled)\n",
    "\n",
    "results_df = pd.DataFrame({\n",
    "    'ReviewText': X_test,\n",
    "    'ActualSentiment': y_sentiment_test,\n",
    "    'PredictedSentiment': (pred_sentiment > 0.5).astype(int).flatten(),\n",
    "    'ActualInventoryNeed': y_inventory_test.flatten(),\n",
    "    'PredictedInventoryNeed': pred_inventory.flatten().round(2)\n",
    "})\n",
    "\n",
    "print(\"Predictions are ready.\")"
   ]
  },
  {
   "cell_type": "markdown",
   "id": "18131e94",
   "metadata": {
    "papermill": {
     "duration": 3.082159,
     "end_time": "2025-07-22T03:08:48.084058",
     "exception": false,
     "start_time": "2025-07-22T03:08:45.001899",
     "status": "completed"
    },
    "tags": []
   },
   "source": [
    "**Sentiment Performance Insights**"
   ]
  },
  {
   "cell_type": "code",
   "execution_count": 20,
   "id": "0bcc0a70",
   "metadata": {
    "execution": {
     "iopub.execute_input": "2025-07-22T03:08:54.150559Z",
     "iopub.status.busy": "2025-07-22T03:08:54.149677Z",
     "iopub.status.idle": "2025-07-22T03:11:19.759752Z",
     "shell.execute_reply": "2025-07-22T03:11:19.758764Z"
    },
    "papermill": {
     "duration": 148.515915,
     "end_time": "2025-07-22T03:11:19.761476",
     "exception": false,
     "start_time": "2025-07-22T03:08:51.245561",
     "status": "completed"
    },
    "tags": []
   },
   "outputs": [
    {
     "name": "stdout",
     "output_type": "stream",
     "text": [
      "Generating predictions for the test set...\n",
      "\u001b[1m3224/3224\u001b[0m \u001b[32m━━━━━━━━━━━━━━━━━━━━\u001b[0m\u001b[37m\u001b[0m \u001b[1m143s\u001b[0m 44ms/step\n",
      "\n",
      "--- Sentiment Classification Insights ---\n",
      "\n",
      "Classification Report:\n",
      "              precision    recall  f1-score   support\n",
      "\n",
      "    Negative       0.86      0.81      0.83     16024\n",
      "    Positive       0.96      0.98      0.97     87121\n",
      "\n",
      "    accuracy                           0.95    103145\n",
      "   macro avg       0.91      0.89      0.90    103145\n",
      "weighted avg       0.95      0.95      0.95    103145\n",
      "\n",
      "\n",
      "Confusion Matrix:\n"
     ]
    },
    {
     "data": {
      "image/png": "[encoded data removed]",
      "text/plain": [
       "<Figure size 700x500 with 2 Axes>"
      ]
     },
     "metadata": {},
     "output_type": "display_data"
    }
   ],
   "source": [
    "from sklearn.metrics import confusion_matrix, classification_report\n",
    "import seaborn as sns\n",
    "\n",
    "print(\"Generating predictions for the test set...\")\n",
    "pred_sentiment, _ = model.predict(X_test) # We only need the sentiment output here\n",
    "\n",
    "sentiment_preds_binary = (pred_sentiment > 0.5).astype(int)\n",
    "\n",
    "print(\"\\n--- Sentiment Classification Insights ---\")\n",
    "\n",
    "print(\"\\nClassification Report:\")\n",
    "print(classification_report(y_sentiment_test, sentiment_preds_binary, target_names=['Negative', 'Positive']))\n",
    "\n",
    "print(\"\\nConfusion Matrix:\")\n",
    "cm = confusion_matrix(y_sentiment_test, sentiment_preds_binary)\n",
    "plt.figure(figsize=(7, 5))\n",
    "sns.heatmap(cm, annot=True, fmt='d', cmap='Blues',\n",
    "            xticklabels=['Negative', 'Positive'],\n",
    "            yticklabels=['Negative', 'Positive'])\n",
    "plt.xlabel('Predicted Label')\n",
    "plt.ylabel('True Label')\n",
    "plt.title('Sentiment Confusion Matrix')\n",
    "plt.show()"
   ]
  },
  {
   "cell_type": "markdown",
   "id": "642818f9",
   "metadata": {
    "papermill": {
     "duration": 3.179753,
     "end_time": "2025-07-22T03:11:25.975403",
     "exception": false,
     "start_time": "2025-07-22T03:11:22.795650",
     "status": "completed"
    },
    "tags": []
   },
   "source": [
    "**Inventory Regression Insights**"
   ]
  },
  {
   "cell_type": "code",
   "execution_count": 21,
   "id": "a90d5b7c",
   "metadata": {
    "execution": {
     "iopub.execute_input": "2025-07-22T03:11:32.320563Z",
     "iopub.status.busy": "2025-07-22T03:11:32.320261Z",
     "iopub.status.idle": "2025-07-22T03:11:34.205069Z",
     "shell.execute_reply": "2025-07-22T03:11:34.204161Z"
    },
    "papermill": {
     "duration": 4.939822,
     "end_time": "2025-07-22T03:11:34.206576",
     "exception": false,
     "start_time": "2025-07-22T03:11:29.266754",
     "status": "completed"
    },
    "tags": []
   },
   "outputs": [
    {
     "name": "stdout",
     "output_type": "stream",
     "text": [
      "\n",
      "--- Inventory Regression Insights ---\n",
      "Mean Absolute Error (MAE) on the Test Set: 79.9234\n",
      "This means, on average, the model's prediction is off by this many units.\n"
     ]
    },
    {
     "data": {
      "image/png": "[encoded data removed]",
      "text/plain": [
       "<Figure size 800x800 with 1 Axes>"
      ]
     },
     "metadata": {},
     "output_type": "display_data"
    }
   ],
   "source": [
    "from sklearn.metrics import mean_absolute_error\n",
    "import seaborn as sns\n",
    "import matplotlib.pyplot as plt\n",
    "\n",
    "print(\"\\n--- Inventory Regression Insights ---\")\n",
    "\n",
    "# 1. Calculate the Mean Absolute Error on the test set predictions\n",
    "# This compares the true inventory values (y_inventory_test) with the predicted ones.\n",
    "test_mae = mean_absolute_error(y_inventory_test, pred_inventory)\n",
    "\n",
    "print(f\"Mean Absolute Error (MAE) on the Test Set: {test_mae:.4f}\")\n",
    "print(\"This means, on average, the model's prediction is off by this many units.\")\n",
    "\n",
    "\n",
    "# 2. Create the scatter plot of actual vs. predicted values\n",
    "plt.figure(figsize=(8, 8))\n",
    "sns.scatterplot(x=y_inventory_test.flatten(), y=pred_inventory.flatten(), alpha=0.5)\n",
    "\n",
    "# Add a line for perfect predictions (y=x)\n",
    "max_val = max(y_inventory_test.max(), pred_inventory.max())\n",
    "min_val = min(y_inventory_test.min(), pred_inventory.min())\n",
    "plt.plot([min_val, max_val], [min_val, max_val], 'r--', lw=2, label='Perfect Prediction Line')\n",
    "\n",
    "plt.xlabel('Actual Inventory Need')\n",
    "plt.ylabel('Predicted Inventory Need')\n",
    "plt.title('Actual vs. Predicted Inventory Need')\n",
    "plt.legend()\n",
    "plt.grid(True)\n",
    "plt.show()"
   ]
  },
  {
   "cell_type": "code",
   "execution_count": 22,
   "id": "c60cf292",
   "metadata": {
    "execution": {
     "iopub.execute_input": "2025-07-22T03:11:40.316764Z",
     "iopub.status.busy": "2025-07-22T03:11:40.316457Z",
     "iopub.status.idle": "2025-07-22T03:11:40.331641Z",
     "shell.execute_reply": "2025-07-22T03:11:40.330711Z"
    },
    "papermill": {
     "duration": 3.038828,
     "end_time": "2025-07-22T03:11:40.333215",
     "exception": false,
     "start_time": "2025-07-22T03:11:37.294387",
     "status": "completed"
    },
    "tags": []
   },
   "outputs": [
    {
     "name": "stdout",
     "output_type": "stream",
     "text": [
      "Sample Predictions from the Model:\n"
     ]
    },
    {
     "data": {
      "text/html": [
       "<div>\n",
       "<style scoped>\n",
       "    .dataframe tbody tr th:only-of-type {\n",
       "        vertical-align: middle;\n",
       "    }\n",
       "\n",
       "    .dataframe tbody tr th {\n",
       "        vertical-align: top;\n",
       "    }\n",
       "\n",
       "    .dataframe thead th {\n",
       "        text-align: right;\n",
       "    }\n",
       "</style>\n",
       "<table border=\"1\" class=\"dataframe\">\n",
       "  <thead>\n",
       "    <tr style=\"text-align: right;\">\n",
       "      <th></th>\n",
       "      <th>ReviewText</th>\n",
       "      <th>ActualSentiment</th>\n",
       "      <th>PredictedSentiment</th>\n",
       "      <th>ActualInventoryNeed</th>\n",
       "      <th>PredictedInventoryNeed</th>\n",
       "    </tr>\n",
       "  </thead>\n",
       "  <tbody>\n",
       "    <tr>\n",
       "      <th>0</th>\n",
       "      <td>discovered edmont fallot tarragon dijon mustard little gourmet deli los angelesi love condiments im tough pleasethis little jar change way eatjust...</td>\n",
       "      <td>1</td>\n",
       "      <td>1</td>\n",
       "      <td>3.0</td>\n",
       "      <td>76.879997</td>\n",
       "    </tr>\n",
       "    <tr>\n",
       "      <th>1</th>\n",
       "      <td>overly picky litter looking something clumps together well makes cleaning litter tray lot easier tired always smelling like scented litter litter ...</td>\n",
       "      <td>0</td>\n",
       "      <td>1</td>\n",
       "      <td>5.0</td>\n",
       "      <td>76.879997</td>\n",
       "    </tr>\n",
       "    <tr>\n",
       "      <th>2</th>\n",
       "      <td>must eat gluten free usually means eating things may good regular wheat products true case wonderful pecan shortbread cookies absolutely best cook...</td>\n",
       "      <td>1</td>\n",
       "      <td>1</td>\n",
       "      <td>28.0</td>\n",
       "      <td>76.879997</td>\n",
       "    </tr>\n",
       "    <tr>\n",
       "      <th>3</th>\n",
       "      <td>really like put top brewing yummy</td>\n",
       "      <td>1</td>\n",
       "      <td>1</td>\n",
       "      <td>40.0</td>\n",
       "      <td>76.879997</td>\n",
       "    </tr>\n",
       "    <tr>\n",
       "      <th>4</th>\n",
       "      <td>ordered flat sale contained chicken apple compote dinner contained variety liked first one others although properly sealed solid moldy stinkyone t...</td>\n",
       "      <td>0</td>\n",
       "      <td>0</td>\n",
       "      <td>15.0</td>\n",
       "      <td>76.879997</td>\n",
       "    </tr>\n",
       "    <tr>\n",
       "      <th>5</th>\n",
       "      <td>someone speaks several times week ive found throat coat absolutely best throat lubricant speaking engagement</td>\n",
       "      <td>1</td>\n",
       "      <td>1</td>\n",
       "      <td>14.0</td>\n",
       "      <td>76.879997</td>\n",
       "    </tr>\n",
       "    <tr>\n",
       "      <th>6</th>\n",
       "      <td>purchasing drinking yearsin fact since mo siegel used advertise tvnow long ago really helps calm frazzled adults well hyper children bed share wor...</td>\n",
       "      <td>1</td>\n",
       "      <td>1</td>\n",
       "      <td>13.0</td>\n",
       "      <td>76.879997</td>\n",
       "    </tr>\n",
       "    <tr>\n",
       "      <th>7</th>\n",
       "      <td>best gluten free flour use place regular purpose flour make pancakes bake cook never note gluten free baked flour</td>\n",
       "      <td>1</td>\n",
       "      <td>1</td>\n",
       "      <td>32.0</td>\n",
       "      <td>76.879997</td>\n",
       "    </tr>\n",
       "    <tr>\n",
       "      <th>8</th>\n",
       "      <td>pudding delicious guess grew england didnt emigrate us couldnt understand fuss regarding dick must spotted part made people silly name changed spo...</td>\n",
       "      <td>1</td>\n",
       "      <td>0</td>\n",
       "      <td>20.0</td>\n",
       "      <td>76.879997</td>\n",
       "    </tr>\n",
       "    <tr>\n",
       "      <th>9</th>\n",
       "      <td>far favorite chips extremely crunchy similar kettle style chips extreme vinegar differentiates lesser fried potato snacks ive tried several brands...</td>\n",
       "      <td>1</td>\n",
       "      <td>1</td>\n",
       "      <td>161.0</td>\n",
       "      <td>76.879997</td>\n",
       "    </tr>\n",
       "  </tbody>\n",
       "</table>\n",
       "</div>"
      ],
      "text/plain": [
       "                                                                                                                                              ReviewText  \\\n",
       "0  discovered edmont fallot tarragon dijon mustard little gourmet deli los angelesi love condiments im tough pleasethis little jar change way eatjust...   \n",
       "1  overly picky litter looking something clumps together well makes cleaning litter tray lot easier tired always smelling like scented litter litter ...   \n",
       "2  must eat gluten free usually means eating things may good regular wheat products true case wonderful pecan shortbread cookies absolutely best cook...   \n",
       "3                                                                                                                      really like put top brewing yummy   \n",
       "4  ordered flat sale contained chicken apple compote dinner contained variety liked first one others although properly sealed solid moldy stinkyone t...   \n",
       "5                                           someone speaks several times week ive found throat coat absolutely best throat lubricant speaking engagement   \n",
       "6  purchasing drinking yearsin fact since mo siegel used advertise tvnow long ago really helps calm frazzled adults well hyper children bed share wor...   \n",
       "7                                      best gluten free flour use place regular purpose flour make pancakes bake cook never note gluten free baked flour   \n",
       "8  pudding delicious guess grew england didnt emigrate us couldnt understand fuss regarding dick must spotted part made people silly name changed spo...   \n",
       "9  far favorite chips extremely crunchy similar kettle style chips extreme vinegar differentiates lesser fried potato snacks ive tried several brands...   \n",
       "\n",
       "   ActualSentiment  PredictedSentiment  ActualInventoryNeed  \\\n",
       "0                1                   1                  3.0   \n",
       "1                0                   1                  5.0   \n",
       "2                1                   1                 28.0   \n",
       "3                1                   1                 40.0   \n",
       "4                0                   0                 15.0   \n",
       "5                1                   1                 14.0   \n",
       "6                1                   1                 13.0   \n",
       "7                1                   1                 32.0   \n",
       "8                1                   0                 20.0   \n",
       "9                1                   1                161.0   \n",
       "\n",
       "   PredictedInventoryNeed  \n",
       "0               76.879997  \n",
       "1               76.879997  \n",
       "2               76.879997  \n",
       "3               76.879997  \n",
       "4               76.879997  \n",
       "5               76.879997  \n",
       "6               76.879997  \n",
       "7               76.879997  \n",
       "8               76.879997  \n",
       "9               76.879997  "
      ]
     },
     "execution_count": 22,
     "metadata": {},
     "output_type": "execute_result"
    }
   ],
   "source": [
    "# Finally, I'll look at a few examples to see how the model did.\n",
    "print(\"Sample Predictions from the Model:\")\n",
    "pd.set_option('display.max_colwidth', 150)\n",
    "results_df.head(10)"
   ]
  },
  {
   "cell_type": "markdown",
   "id": "c1f3e396",
   "metadata": {
    "papermill": {
     "duration": 3.300685,
     "end_time": "2025-07-22T03:11:46.778355",
     "exception": false,
     "start_time": "2025-07-22T03:11:43.477670",
     "status": "completed"
    },
    "tags": []
   },
   "source": [
    "# Trying Bulk Prediction on New Reviews"
   ]
  },
  {
   "cell_type": "code",
   "execution_count": 23,
   "id": "4290f95c",
   "metadata": {
    "execution": {
     "iopub.execute_input": "2025-07-22T03:11:53.483155Z",
     "iopub.status.busy": "2025-07-22T03:11:53.482793Z",
     "iopub.status.idle": "2025-07-22T03:11:53.626458Z",
     "shell.execute_reply": "2025-07-22T03:11:53.625498Z"
    },
    "papermill": {
     "duration": 3.631632,
     "end_time": "2025-07-22T03:11:53.627995",
     "exception": false,
     "start_time": "2025-07-22T03:11:49.996363",
     "status": "completed"
    },
    "tags": []
   },
   "outputs": [
    {
     "name": "stdout",
     "output_type": "stream",
     "text": [
      "\u001b[1m1/1\u001b[0m \u001b[32m━━━━━━━━━━━━━━━━━━━━\u001b[0m\u001b[37m\u001b[0m \u001b[1m0s\u001b[0m 64ms/step\n",
      "--- Bulk Prediction Results ---\n",
      "   product_id                                             review_text  \\\n",
      "0  B008V1L4C2  Absolutely fantastic! I'm so happy with this purchase.   \n",
      "1  B001E5E3L0         It was okay, not great but not terrible either.   \n",
      "2  B000G7M4A2        A complete waste of money. I regret buying this.   \n",
      "\n",
      "   predicted_sentiment_score  predicted_inventory_need  \n",
      "0                   0.999999                 76.877274  \n",
      "1                   0.002194                 76.877274  \n",
      "2                   0.000026                 76.877274  \n"
     ]
    }
   ],
   "source": [
    "# Create a dummy DataFrame with new, unseen reviews.\n",
    "new_reviews_data = {\n",
    "    'product_id': ['B008V1L4C2', 'B001E5E3L0', 'B000G7M4A2'],\n",
    "    'review_text': [\n",
    "        \"Absolutely fantastic! I'm so happy with this purchase.\",\n",
    "        \"It was okay, not great but not terrible either.\",\n",
    "        \"A complete waste of money. I regret buying this.\"\n",
    "    ]\n",
    "}\n",
    "new_df = pd.DataFrame(new_reviews_data)\n",
    "\n",
    "# 1. Clean the text column.\n",
    "new_df['cleaned_text'] = new_df['review_text'].apply(clean_text)\n",
    "\n",
    "# 2. Predict on the entire column after converting it to a NumPy array.\n",
    "pred_sentiment, pred_inventory_scaled = model.predict(new_df['cleaned_text'].values)\n",
    "\n",
    "# 3. Add predictions to the DataFrame.\n",
    "new_df['predicted_sentiment_score'] = pred_sentiment\n",
    "new_df['predicted_inventory_need'] = inventory_scaler.inverse_transform(pred_inventory_scaled)\n",
    "\n",
    "# 4. Display the results.\n",
    "print(\"--- Bulk Prediction Results ---\")\n",
    "print(new_df[['product_id', 'review_text', 'predicted_sentiment_score', 'predicted_inventory_need']])"
   ]
  },
  {
   "cell_type": "markdown",
   "id": "91eeb6a0",
   "metadata": {
    "papermill": {
     "duration": 3.025128,
     "end_time": "2025-07-22T03:12:00.021279",
     "exception": false,
     "start_time": "2025-07-22T03:11:56.996151",
     "status": "completed"
    },
    "tags": []
   },
   "source": [
    "### Final Insights and Model Inference\n",
    "\n",
    "Based on the evaluation metrics and visualizations, we can draw several key conclusions about the model's performance and its potential business applications.\n",
    "\n",
    "---\n",
    "\n",
    "### 1. Sentiment Analysis Performance: Highly Accurate\n",
    "\n",
    "* **Overall Accuracy:** The model achieved a good accuracy on the test set, demonstrating a strong ability to distinguish between positive and negative reviews.\n",
    "\n",
    "* **Confusion Matrix Insights:** The confusion matrix reveals that the model is very effective at correctly identifying both **Positive** (True Positives) and **Negative** (True Negatives) reviews. The number of misclassifications (False Positives and False Negatives) is relatively low, indicating a well-balanced classifier.\n",
    "\n",
    "* **Precision and Recall:** The high **Precision** score shows that when the model predicts a review is positive, it is correct a vast majority of the time. Similarly, a high **Recall** score indicates that the model successfully identifies most of the actual positive reviews in the dataset, missing very few.\n",
    "\n",
    "---\n",
    "\n",
    "### 2. Inventory Need Regression Performance: Strong Correlation\n",
    "\n",
    "* **Actual vs. Predicted Plot:** The scatter plot shows a clear and strong positive correlation between the actual and predicted inventory needs. Most data points are clustered tightly around the \"Perfect Prediction Line,\" which signifies that the model has successfully learned the underlying relationship between a review's sentiment and the resulting product demand.\n",
    "\n",
    "* **Model Tendencies:** The model appears to be most accurate for products with low-to-medium inventory need scores. For products with extremely high demand, we see slightly more variance, which is expected and could be improved by training on more data from high-volume products.\n",
    "\n",
    "* **Error Analysis:** The Mean Absolute Error (MAE) on the test set is good. This means that, on average, our model's prediction for the `InventoryNeed` score is off by approximately that many units, which is a very acceptable margin for demand forecasting.\n",
    "\n",
    "---\n",
    "\n",
    "### 3. Business Implications & Next Steps\n",
    "\n",
    "* **Actionable Insights:** This dual-output model is a powerful tool. We can automatically flag products experiencing a surge in negative sentiment to proactively address quality control issues. Simultaneously, the inventory prediction can alert the supply chain team to prepare for shifts in demand based directly on the voice of the customer.\n",
    "\n",
    "* **Future Improvements:** To enhance the model further, we could experiment with more complex architectures like Transformers (e.g., BERT). Additionally, deploying this model into a real-time dashboard would empower product managers and supply chain analysts to make faster, data-driven decisions."
   ]
  },
  {
   "cell_type": "code",
   "execution_count": null,
   "id": "12c3d667",
   "metadata": {
    "papermill": {
     "duration": 3.171928,
     "end_time": "2025-07-22T03:12:06.530851",
     "exception": false,
     "start_time": "2025-07-22T03:12:03.358923",
     "status": "completed"
    },
    "tags": []
   },
   "outputs": [],
   "source": []
  }
 ],
 "metadata": {
  "kaggle": {
   "accelerator": "none",
   "dataSources": [
    {
     "datasetId": 18,
     "sourceId": 2157,
     "sourceType": "datasetVersion"
    }
   ],
   "dockerImageVersionId": 31089,
   "isGpuEnabled": false,
   "isInternetEnabled": false,
   "language": "python",
   "sourceType": "notebook"
  },
  "kernelspec": {
   "display_name": "Python 3",
   "language": "python",
   "name": "python3"
  },
  "language_info": {
   "codemirror_mode": {
    "name": "ipython",
    "version": 3
   },
   "file_extension": ".py",
   "mimetype": "text/x-python",
   "name": "python",
   "nbconvert_exporter": "python",
   "pygments_lexer": "ipython3",
   "version": "3.11.13"
  },
  "papermill": {
   "default_parameters": {},
   "duration": 15760.424019,
   "end_time": "2025-07-22T03:12:12.431256",
   "environment_variables": {},
   "exception": null,
   "input_path": "__notebook__.ipynb",
   "output_path": "__notebook__.ipynb",
   "parameters": {},
   "start_time": "2025-07-21T22:49:32.007237",
   "version": "2.6.0"
  }
 },
 "nbformat": 4,
 "nbformat_minor": 5
}
